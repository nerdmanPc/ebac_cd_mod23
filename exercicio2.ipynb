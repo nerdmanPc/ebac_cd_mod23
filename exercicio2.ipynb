{
 "cells": [
  {
   "cell_type": "markdown",
   "metadata": {},
   "source": [
    "1. \n",
    "    1. Para cada árvore de decisão, criar uma amostragem aleatória com reposição dos dados originais.\n",
    "    2. Para amostragem do item anterior, selecionar um número m de colunas aleatórias sem reposição.\n",
    "    3. Com cada amostragem do item anterior, treinar árvores de decisão.\n",
    "    4. Para cada previsão, combinar as respostas das diferentes árvores escolhendo a moda ou calculando a média entre elas.\n",
    "\n",
    "2. O _Random Forest_ consiste na criação de várias árvores de decisão baseadas em amostragens de um conjunto de dados original. Tal qual o _Bagging_, elas são aleatórias com reposição, com a diferaça que também são filtradas m colunas diferentes de cada uma. Para as previsões, obtêm-se um consenso por meio da média ou da moda das respostas de cada árvore.\n",
    "\n",
    "3. As principais diferenças são que o _Random Forest_ seleciona um subconjunto aleatório de cada amostra do _Bootsrapping_ e define os modelos como Árvores de decisão."
   ]
  },
  {
   "cell_type": "code",
   "execution_count": null,
   "metadata": {},
   "outputs": [],
   "source": [
    "import pandas as pd\n",
    "import numpy as np"
   ]
  },
  {
   "cell_type": "code",
   "execution_count": null,
   "metadata": {},
   "outputs": [],
   "source": [
    "class DecisionTree:\n",
    "    def fit(self, df: pd.DataFrame):\n",
    "        #Ajusta o modelo correspondente\n",
    "        return self\n",
    "    def predict(self, X: pd.DataFrame) -> pd.Series:\n",
    "        #Retorna previsão do modelo correspondente\n",
    "        pass"
   ]
  },
  {
   "cell_type": "code",
   "execution_count": null,
   "metadata": {},
   "outputs": [],
   "source": [
    "def bootstrap(data_frame: pd.DataFrame, n_trees: int, n_cols: int) -> list[pd.DataFrame]:\n",
    "    return [\n",
    "        data_frame\n",
    "        .sample(frac=1.0, replace=True)\n",
    "        .sample(n_cols, axis=1) \n",
    "        for i in range(n_trees)\n",
    "    ]"
   ]
  },
  {
   "cell_type": "code",
   "execution_count": null,
   "metadata": {},
   "outputs": [],
   "source": [
    "def modeling(samples: list[pd.DataFrame], trees: list[DecisionTree]) -> list[DecisionTree]:\n",
    "    return [tree.fit(sample) for (sample, tree) in zip(samples, trees)]"
   ]
  },
  {
   "cell_type": "code",
   "execution_count": null,
   "metadata": {},
   "outputs": [],
   "source": [
    "def aggregate(trees: list[DecisionTree], X: pd.DataFrame) -> pd.Series:\n",
    "    predictions = [tree.predict(X) for tree in trees]\n",
    "    pred_len = len(predictions[0])\n",
    "    final_pred = pd.Series( np.zeros(pred_len) )\n",
    "    for pred in predictions:\n",
    "        final_pred += pred\n",
    "    final_pred /= len(predictions)"
   ]
  }
 ],
 "metadata": {
  "kernelspec": {
   "display_name": "Python 3.10.6 64-bit",
   "language": "python",
   "name": "python3"
  },
  "language_info": {
   "name": "python",
   "version": "3.10.6"
  },
  "orig_nbformat": 4,
  "vscode": {
   "interpreter": {
    "hash": "916dbcbb3f70747c44a77c7bcd40155683ae19c65e1c03b4aa3499c5328201f1"
   }
  }
 },
 "nbformat": 4,
 "nbformat_minor": 2
}
