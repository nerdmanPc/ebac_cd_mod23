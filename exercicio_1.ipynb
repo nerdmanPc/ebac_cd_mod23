{
 "cells": [
  {
   "cell_type": "markdown",
   "metadata": {},
   "source": [
    "1. \n",
    "    1. Para cada modelo que se deseja combinar, fazer uma amostragem aleatória com reposição dos dados.\n",
    "    2. Treinar cada modelo com sua respectiva amostragem.\n",
    "    3. Para cada previsão, combinar as respostas dos diferentes modelos escolhendo a moda ou calculando a média entre elas.  \n",
    "2. _Bagging_ consiste na combinação das técnicas _Bootstrapping_ e _Aggregating_. O primeiro procedimento consiste em treinar modelos estatísticos e de machine learning com amostragens aleatórias com reposição do dado original. Já o segundo se trata de obter uma única resposta a partir das previsões de modelos diferentes, seja obtendo a classificação mais comum, seja calculando a édia das regressões."
   ]
  },
  {
   "cell_type": "code",
   "execution_count": null,
   "metadata": {},
   "outputs": [],
   "source": [
    "import pandas as pd\n",
    "import numpy as np"
   ]
  },
  {
   "cell_type": "code",
   "execution_count": null,
   "metadata": {},
   "outputs": [],
   "source": [
    "class Model:\n",
    "    def fit(self, df: pd.DataFrame):\n",
    "        #Ajusta o modelo correspondente\n",
    "        return self\n",
    "    def predict(self, X: pd.DataFrame) -> pd.Series:\n",
    "        #Retorna previsão do modelo correspondente\n",
    "        pass"
   ]
  },
  {
   "cell_type": "code",
   "execution_count": null,
   "metadata": {},
   "outputs": [],
   "source": [
    "def bootstrap(data_frame: pd.DataFrame, n_models: int) -> list[pd.DataFrame]:\n",
    "    return [data_frame.sample(frac=1.0, replace=True) for i in range(n_models)]"
   ]
  },
  {
   "cell_type": "code",
   "execution_count": null,
   "metadata": {},
   "outputs": [],
   "source": [
    "def modeling(samples: list[pd.DataFrame], models: list[Model]) -> list[Model]:\n",
    "    return [model.fit(sample) for (sample, model) in zip(samples, models)]"
   ]
  },
  {
   "cell_type": "code",
   "execution_count": null,
   "metadata": {},
   "outputs": [],
   "source": [
    "def aggregate(models: list[Model], X: pd.DataFrame) -> pd.Series:\n",
    "    predictions = [model.predict(X) for model in models]\n",
    "    pred_len = len(predictions[0])\n",
    "    final_pred = pd.Series( np.zeros(pred_len) )\n",
    "    for pred in predictions:\n",
    "        final_pred += pred\n",
    "    final_pred /= len(predictions)"
   ]
  }
 ],
 "metadata": {
  "kernelspec": {
   "display_name": "Python 3.10.6 64-bit",
   "language": "python",
   "name": "python3"
  },
  "language_info": {
   "name": "python",
   "version": "3.10.6"
  },
  "orig_nbformat": 4,
  "vscode": {
   "interpreter": {
    "hash": "916dbcbb3f70747c44a77c7bcd40155683ae19c65e1c03b4aa3499c5328201f1"
   }
  }
 },
 "nbformat": 4,
 "nbformat_minor": 2
}
