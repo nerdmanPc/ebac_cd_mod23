{
 "cells": [
  {
   "cell_type": "markdown",
   "metadata": {},
   "source": [
    "Hiperparâmetros do Random Forest\n",
    "- oob_score: define se o modelo deve separar linhas para avaliação\n",
    "- max_features: número de colunas por árvore\n",
    "- n_estimators: número de árvores de decisão a treinar\n",
    "- min_smaples_leaf: número mínimo de amostras nas folhas de cada árvore\n",
    "- max_depth: profundidade máxima de cada árvore"
   ]
  }
 ],
 "metadata": {
  "kernelspec": {
   "display_name": "Python 3.10.6 64-bit",
   "language": "python",
   "name": "python3"
  },
  "language_info": {
   "name": "python",
   "version": "3.10.6"
  },
  "orig_nbformat": 4,
  "vscode": {
   "interpreter": {
    "hash": "916dbcbb3f70747c44a77c7bcd40155683ae19c65e1c03b4aa3499c5328201f1"
   }
  }
 },
 "nbformat": 4,
 "nbformat_minor": 2
}
